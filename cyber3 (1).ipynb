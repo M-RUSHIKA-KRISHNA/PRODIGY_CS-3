{
 "cells": [
  {
   "cell_type": "code",
   "execution_count": null,
   "id": "6bc29eeb-53ed-4488-a891-7900cd370199",
   "metadata": {},
   "outputs": [
    {
     "name": "stdin",
     "output_type": "stream",
     "text": [
      "Enter a password to assess its strength:  GOds@123\n"
     ]
    },
    {
     "name": "stdout",
     "output_type": "stream",
     "text": [
      "Password Strength: Very Strong\n",
      "- Password length is sufficient.\n",
      "- Password contains lowercase letters.\n",
      "- Password contains uppercase letters.\n",
      "- Password contains numbers.\n",
      "- Password contains special characters.\n"
     ]
    }
   ],
   "source": [
    "import re\n",
    "\n",
    "def assess_password_strength(password):\n",
    "    # Criteria for password strength\n",
    "    length_criteria = len(password) >= 8\n",
    "    lowercase_criteria = re.search(r'[a-z]', password) is not None\n",
    "    uppercase_criteria = re.search(r'[A-Z]', password) is not None\n",
    "    number_criteria = re.search(r'[0-9]', password) is not None\n",
    "    special_char_criteria = re.search(r'[!@#$%^&*(),.?\":{}|<>]', password) is not None\n",
    "\n",
    "    # Feedback messages\n",
    "    feedback = []\n",
    "    if length_criteria:\n",
    "        feedback.append(\"Password length is sufficient.\")\n",
    "    else:\n",
    "        feedback.append(\"Password should be at least 8 characters long.\")\n",
    "\n",
    "    if lowercase_criteria:\n",
    "        feedback.append(\"Password contains lowercase letters.\")\n",
    "    else:\n",
    "        feedback.append(\"Password should contain at least one lowercase letter.\")\n",
    "\n",
    "    if uppercase_criteria:\n",
    "        feedback.append(\"Password contains uppercase letters.\")\n",
    "    else:\n",
    "        feedback.append(\"Password should contain at least one uppercase letter.\")\n",
    "\n",
    "    if number_criteria:\n",
    "        feedback.append(\"Password contains numbers.\")\n",
    "    else:\n",
    "        feedback.append(\"Password should contain at least one number.\")\n",
    "\n",
    "    if special_char_criteria:\n",
    "        feedback.append(\"Password contains special characters.\")\n",
    "    else:\n",
    "        feedback.append(\"Password should contain at least one special character.\")\n",
    "\n",
    "    # Password strength assessment\n",
    "    score = sum([length_criteria, lowercase_criteria, uppercase_criteria, number_criteria, special_char_criteria])\n",
    "    if score == 5:\n",
    "        strength = \"Very Strong\"\n",
    "    elif score == 4:\n",
    "        strength = \"Strong\"\n",
    "    elif score == 3:\n",
    "        strength = \"Moderate\"\n",
    "    else:\n",
    "        strength = \"Weak\"\n",
    "\n",
    "    return strength, feedback\n",
    "\n",
    "def main():\n",
    "    while True:\n",
    "        password = input(\"Enter a password to assess its strength: \")\n",
    "        strength, feedback = assess_password_strength(password)\n",
    "\n",
    "        print(f\"Password Strength: {strength}\")\n",
    "        for message in feedback:\n",
    "            print(f\"- {message}\")\n",
    "\n",
    "        try_again = input(\"Do you want to assess another password? (yes/no): \").lower()\n",
    "        if try_again != 'yes':\n",
    "            break\n",
    "\n",
    "if __name__ == \"__main__\":\n",
    "    main()"
   ]
  },
  {
   "cell_type": "code",
   "execution_count": null,
   "id": "ae49ce34-b1a2-403a-aabb-108c255bf613",
   "metadata": {},
   "outputs": [],
   "source": []
  }
 ],
 "metadata": {
  "kernelspec": {
   "display_name": "Python 3 (ipykernel)",
   "language": "python",
   "name": "python3"
  },
  "language_info": {
   "codemirror_mode": {
    "name": "ipython",
    "version": 3
   },
   "file_extension": ".py",
   "mimetype": "text/x-python",
   "name": "python",
   "nbconvert_exporter": "python",
   "pygments_lexer": "ipython3",
   "version": "3.11.7"
  }
 },
 "nbformat": 4,
 "nbformat_minor": 5
}
